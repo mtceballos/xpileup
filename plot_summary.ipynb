{
 "cells": [
  {
   "cell_type": "markdown",
   "metadata": {},
   "source": [
    "# Read summary file of simulations and plot results"
   ]
  },
  {
   "cell_type": "code",
   "execution_count": 9,
   "metadata": {},
   "outputs": [],
   "source": [
    "# import modules for ploting and data manipulation\n",
    "import matplotlib.pyplot as plt\n",
    "import numpy as np\n",
    "import pandas as pd\n"
   ]
  },
  {
   "cell_type": "code",
   "execution_count": 10,
   "metadata": {},
   "outputs": [
    {
     "name": "stdout",
     "output_type": "stream",
     "text": [
      "   simulation  flux[mcrab]  exposure[s]  filter  focus  Npixels  Nimpacts  \\\n",
      "0          26          0.5         4331  nofilt  infoc     1395    130201   \n",
      "1          30          0.5         4331  nofilt  infoc     1386    130563   \n",
      "2          29          0.5         4331  nofilt  infoc     1383    130163   \n",
      "3          25          0.5         4331  nofilt  infoc     1390    129989   \n",
      "4          28          0.5         4331  nofilt  infoc     1394    129592   \n",
      "\n",
      "   Nrecons  Nbadrecons  fraction_lost[%]  fraction_badreconstructed[%]  \n",
      "0   130132          66            0.0530                        0.0507  \n",
      "1   130503          60            0.0460                        0.0460  \n",
      "2   130109          53            0.0415                        0.0407  \n",
      "3   129933          52            0.0431                        0.0400  \n",
      "4   129521          71            0.0548                        0.0548  \n"
     ]
    }
   ],
   "source": [
    "summ_file = \"info_nofilt_infoc_test.csv\"\n",
    "exposure = 4331\n",
    "# read csv file\n",
    "df = pd.read_csv(summ_file)\n",
    "print(df.head())"
   ]
  },
  {
   "cell_type": "code",
   "execution_count": 15,
   "metadata": {},
   "outputs": [
    {
     "data": {
      "image/png": "[encoded data removed]",
      "text/plain": [
       "<Figure size 640x480 with 1 Axes>"
      ]
     },
     "metadata": {},
     "output_type": "display_data"
    }
   ],
   "source": [
    "# Read columns \"simulation\" and \"fraction[%lost]\" for the given exposure time\n",
    "df = df[df[\"exposure[s]\"] == exposure]\n",
    "sim = df[\"simulation\"]\n",
    "frac = df[\"fraction_lost[%]\"]\n",
    "# plot a histogram of the fraction of lost photons for each simulation\n",
    "plt.hist(frac, bins=5, color=\"blue\", alpha=0.7)\n",
    "plt.xlabel(\"Fraction of lost photons [%]\")\n",
    "plt.ylabel(\"Number of simulations\")\n",
    "plt.title(\"Histogram of fraction of lost photons\")\n",
    "plt.show()"
   ]
  },
  {
   "cell_type": "markdown",
   "metadata": {},
   "source": []
  },
  {
   "cell_type": "code",
   "execution_count": 16,
   "metadata": {},
   "outputs": [
    {
     "name": "stdout",
     "output_type": "stream",
     "text": [
      "Mean fraction of lost photons:  0.048646666666666664\n",
      "Standard deviation of fraction of lost photons:  0.004786350964519376\n"
     ]
    }
   ],
   "source": [
    "mean_frac = np.mean(frac)\n",
    "std_frac = np.std(frac)\n",
    "print(\"Mean fraction of lost photons: \", mean_frac)\n",
    "print(\"Standard deviation of fraction of lost photons: \", std_frac)\n"
   ]
  },
  {
   "cell_type": "code",
   "execution_count": 17,
   "metadata": {},
   "outputs": [
    {
     "name": "stdout",
     "output_type": "stream",
     "text": [
      "Variance of fraction of lost photons:  2.290915555555556e-05\n"
     ]
    }
   ],
   "source": [
    "square = std_frac**2\n",
    "print(\"Variance of fraction of lost photons: \", square)\n"
   ]
  },
  {
   "cell_type": "code",
   "execution_count": 18,
   "metadata": {},
   "outputs": [
    {
     "name": "stdout",
     "output_type": "stream",
     "text": [
      "Shapiro-Wilk test statistic:  0.9543182976523774\n",
      "Shapiro-Wilk test p-value:  0.2203181805503578\n"
     ]
    }
   ],
   "source": [
    "# do a normality test\n",
    "from scipy.stats import shapiro\n",
    "stat, p = shapiro(frac)\n",
    "print(\"Shapiro-Wilk test statistic: \", stat)\n",
    "print(\"Shapiro-Wilk test p-value: \", p)\n"
   ]
  },
  {
   "cell_type": "code",
   "execution_count": 19,
   "metadata": {},
   "outputs": [
    {
     "name": "stdout",
     "output_type": "stream",
     "text": [
      "Kolmogorov-Smirnov test statistic:  0.5159534368528308\n",
      "Kolmogorov-Smirnov test p-value:  6.038236993799787e-08\n"
     ]
    }
   ],
   "source": [
    "#do a Kolmogorov-Smirnov test for normality\n",
    "from scipy.stats import kstest\n",
    "stat, p = kstest(frac, \"norm\")\n",
    "print(\"Kolmogorov-Smirnov test statistic: \", stat)\n",
    "print(\"Kolmogorov-Smirnov test p-value: \", p)\n"
   ]
  },
  {
   "cell_type": "code",
   "execution_count": 22,
   "metadata": {},
   "outputs": [
    {
     "name": "stdout",
     "output_type": "stream",
     "text": [
      "Anderson-Darling test statistic:  0.5039129594055929\n",
      "Anderson-Darling test critical values:  [0.521 0.593 0.712 0.83  0.988]\n",
      "Anderson-Darling test significance levels:  [15.  10.   5.   2.5  1. ]\n",
      "Anderson-Darling test p-value:  5.0\n",
      "The fraction of lost photons is normally distributed\n"
     ]
    }
   ],
   "source": [
    "# do an anderson-darling test for normality\n",
    "from scipy.stats import anderson\n",
    "result = anderson(frac)\n",
    "print(\"Anderson-Darling test statistic: \", result.statistic)\n",
    "print(\"Anderson-Darling test critical values: \", result.critical_values)\n",
    "print(\"Anderson-Darling test significance levels: \", result.significance_level)\n",
    "print(\"Anderson-Darling test p-value: \", result.significance_level[2])\n",
    "# print a conclusion about normality\n",
    "if result.statistic < result.critical_values[2]:\n",
    "    print(\"The fraction of lost photons is normally distributed\")\n"
   ]
  },
  {
   "cell_type": "code",
   "execution_count": null,
   "metadata": {},
   "outputs": [],
   "source": []
  }
 ],
 "metadata": {
  "kernelspec": {
   "display_name": "GSFCenv",
   "language": "python",
   "name": "python3"
  },
  "language_info": {
   "codemirror_mode": {
    "name": "ipython",
    "version": 3
   },
   "file_extension": ".py",
   "mimetype": "text/x-python",
   "name": "python",
   "nbconvert_exporter": "python",
   "pygments_lexer": "ipython3",
   "version": "3.12.7"
  }
 },
 "nbformat": 4,
 "nbformat_minor": 2
}
