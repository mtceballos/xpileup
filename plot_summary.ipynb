{
 "cells": [
  {
   "cell_type": "markdown",
   "metadata": {},
   "source": [
    "# Read summary file of simulations and plot results   \n",
    "\n",
    "After all simulations (`SIXTE`+ `xifusim`) a file is saved with all the information.   \n",
    "This notebook reads that file and plots summaries:   \n",
    "\n",
    "1. **Histogram** of fraction of lost photons: has a 'normal' distribution? Can I assign a median value and a std deviation for that flux?   \n",
    "   It is important to establish a simulation time that produces enough number of close pairs that could give rise to pile-up. Here we check that the fractions obtained in the different simulations are 'normally' distributed so that we can finally obtain a mean value   "
   ]
  },
  {
   "cell_type": "code",
   "execution_count": null,
   "metadata": {},
   "outputs": [],
   "source": [
    "# import modules for ploting and data manipulation\n",
    "import matplotlib.pyplot as plt\n",
    "import numpy as np\n",
    "import pandas as pd\n",
    "from astropy.visualization import hist\n"
   ]
  },
  {
   "cell_type": "code",
   "execution_count": null,
   "metadata": {},
   "outputs": [],
   "source": [
    "flux_mcrab = f\"{0.5:.3f}mCrab\"\n",
    "summ_file = f\"info_nofilt_infoc_global_{flux_mcrab}.csv\"\n",
    "print(f\"Reading file: {summ_file}\")\n",
    "#exposure = 4331\n",
    "# read csv file\n",
    "df = pd.read_csv(summ_file)\n",
    "print(df.head())"
   ]
  },
  {
   "cell_type": "code",
   "execution_count": null,
   "metadata": {},
   "outputs": [],
   "source": [
    "# Read columns \"simulation\" and \"fraction[%lost]\" for the given exposure time\n",
    "# get exposure time from table\n",
    "exposure = df['exposure[s]'].values[0]\n",
    "filter = df['filter'].values[0]\n",
    "focus = df['focus'].values[0]\n",
    "Nimpacts = df['Nimpacts'].values[0]\n",
    "sim = df[\"simulation\"]\n",
    "frac = df[\"fraction_lost[%]\"]\n",
    "# plot a histogram of the fraction of lost photons for each simulation\n",
    "hist(frac, bins='scott', color=\"blue\", alpha=0.7)\n",
    "plt.xlabel(\"Fraction of lost photons [%]\")\n",
    "plt.ylabel(\"Number of simulations\")\n",
    "plt.title(f\"Histogram of fraction of lost photons ({len(sim)} simulations)\")\n",
    "# print info about flux, exposure time, Nimpacts, filter and focus\n",
    "mean = np.mean(frac)\n",
    "std = np.std(frac)\n",
    "pm_str = u\"\\u00B1\"\n",
    "plt.text(0.6, 0.65, f\"Flux: {flux_mcrab}\\nExposure time: {exposure} s\\nNimpacts: {Nimpacts}\\nFilter: {filter}\\nFocus: {focus}\\nMean: {mean:.3f} {pm_str} {std:.3f}%\", fontsize=12, transform=plt.gca().transAxes)\n",
    "plt.show()\n",
    "#plt.hist(frac, bins=10, color=\"blue\", alpha=0.7)"
   ]
  },
  {
   "cell_type": "markdown",
   "metadata": {},
   "source": []
  },
  {
   "cell_type": "code",
   "execution_count": null,
   "metadata": {},
   "outputs": [],
   "source": [
    "mean_frac = np.mean(frac)\n",
    "std_frac = np.std(frac)\n",
    "print(\"Mean fraction of lost photons: \", mean_frac)\n",
    "print(\"Standard deviation of fraction of lost photons: \", std_frac)\n"
   ]
  },
  {
   "cell_type": "code",
   "execution_count": null,
   "metadata": {},
   "outputs": [],
   "source": [
    "square = std_frac**2\n",
    "print(\"Variance of fraction of lost photons: \", square)\n"
   ]
  },
  {
   "cell_type": "code",
   "execution_count": null,
   "metadata": {},
   "outputs": [],
   "source": [
    "# do a normality test\n",
    "from scipy.stats import shapiro\n",
    "stat, p = shapiro(frac)\n",
    "print(\"Shapiro-Wilk test statistic: \", stat)\n",
    "print(\"Shapiro-Wilk test p-value: \", p)\n",
    "# print a conclusion about the normality of the data\n",
    "if p > 0.05:\n",
    "    print(\"The fraction of lost photons is normally distributed\")\n"
   ]
  },
  {
   "cell_type": "code",
   "execution_count": null,
   "metadata": {},
   "outputs": [],
   "source": [
    "# do an anderson-darling test for normality\n",
    "from scipy.stats import anderson\n",
    "result = anderson(frac)\n",
    "print(\"Anderson-Darling test statistic: \", result.statistic)\n",
    "print(\"Anderson-Darling test critical values: \", result.critical_values)\n",
    "print(\"Anderson-Darling test significance levels: \", result.significance_level)\n",
    "print(\"Anderson-Darling test p-value: \", result.significance_level[2])\n",
    "# print a conclusion about normality\n",
    "if result.statistic < result.critical_values[2]:\n",
    "    print(\"The fraction of lost photons is normally distributed\")\n"
   ]
  },
  {
   "cell_type": "code",
   "execution_count": null,
   "metadata": {},
   "outputs": [],
   "source": []
  }
 ],
 "metadata": {
  "kernelspec": {
   "display_name": "GSFCenv",
   "language": "python",
   "name": "python3"
  },
  "language_info": {
   "codemirror_mode": {
    "name": "ipython",
    "version": 3
   },
   "file_extension": ".py",
   "mimetype": "text/x-python",
   "name": "python",
   "nbconvert_exporter": "python",
   "pygments_lexer": "ipython3",
   "version": "3.12.7"
  }
 },
 "nbformat": 4,
 "nbformat_minor": 2
}
