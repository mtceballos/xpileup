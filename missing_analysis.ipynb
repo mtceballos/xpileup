{
 "cells": [
  {
   "cell_type": "markdown",
   "metadata": {},
   "source": [
    "# Analysis of Missing reconstruction pulses"
   ]
  },
  {
   "cell_type": "code",
   "execution_count": null,
   "metadata": {},
   "outputs": [],
   "source": [
    "# Do standard imports\n",
    "import numpy as np\n",
    "import matplotlib.pyplot as plt\n",
    "import pandas as pd\n",
    "from astropy.io import fits, ascii\n",
    "from astropy.table import Table\n",
    "import os\n",
    "import auxiliary "
   ]
  },
  {
   "cell_type": "code",
   "execution_count": null,
   "metadata": {},
   "outputs": [],
   "source": [
    "nsims = 100\n",
    "fluxDir = f\"{os.getcwd()}/flux0.50mcrab/\"\n",
    "exposure = 4331\n",
    "sampling_rate=130210 #Hz\n",
    "auxiliary.verbose = 0"
   ]
  },
  {
   "cell_type": "code",
   "execution_count": null,
   "metadata": {},
   "outputs": [],
   "source": [
    "import ast\n",
    "missing_distances = list()\n",
    "for i in range(nsims):\n",
    "    isim = i + 1\n",
    "    csv_file = f\"{fluxDir}/sim_{isim}/00_info_nofilt_infoc_sim{isim}_missing.csv\"\n",
    "    missing_table = pd.read_csv(csv_file, converters={\"Non-reconstructed photons\": ast.literal_eval,\"Bad-reconstructed photons\": ast.literal_eval})\n",
    "    #missing_table[\"Bad-reconstructed photons\"] = missing_table[\"Bad-reconstructed photons\"].apply(np.array)\n",
    "    #missing_table[\"Non-reconstructed photons\"] = missing_table[\"Non-reconstructed photons\"].apply(np.array)\n",
    "   \n",
    "    #read table row by row:\n",
    "    # Frist column is an integer value that represents the pixel id\n",
    "    # Second column is a list of integers that represents the PH_ID of the missing photons\n",
    "    # Third column is a list of integers that represents the PH_ID of the photons that are bad reconstructed    \n",
    "    for i, row in missing_table.iterrows():\n",
    "        ipixel = row[\"Pixel\"]\n",
    "        missing_phs_id = row[\"Non-reconstructed photons\"]\n",
    "        bad_recons_phs_id = row[\"Bad-reconstructed photons\"]\n",
    "        auxiliary.vprint(f\"sim {isim}, pixel {ipixel}, missing photons {missing_phs_id}, bad reconstructed photons {bad_recons_phs_id}\")\n",
    "        # identify piximpact file for pixel\n",
    "        piximpact_file = f\"{fluxDir}/sim_{isim}/crab_flux0.50_Emin2_Emax10_exp{exposure}_RA0.0_Dec0.0_nofilt_infoc_pixel{ipixel}_piximpact.fits\"\n",
    "        # create a dictionary: keys are the ipixels; values are lists of missing distances\n",
    "        # read TIME and PH_ID columns of piximpact FITS file\n",
    "\n",
    "        with fits.open(piximpact_file) as hdul:\n",
    "            piximpact_data = hdul[1].data\n",
    "            time = piximpact_data[\"TIME\"].copy()\n",
    "            ph_id = piximpact_data[\"PH_ID\"].copy()\n",
    "        # foreach missing photon, find the minimum TIME distance to the bad reconstructed photons (find its 'partner')\n",
    "        for imissing in missing_phs_id:\n",
    "            missing_time = time[ph_id == imissing][0] \n",
    "            min_time_diff_samples = float(\"inf\")   \n",
    "            # find the bad reconstructed photon that is closest in time to the missing photon\n",
    "            min_bad = None\n",
    "            for ibad in bad_recons_phs_id:\n",
    "                bad_time = time[ph_id == ibad][0]\n",
    "                time_diff_samples = np.abs(missing_time - bad_time)*sampling_rate\n",
    "                if time_diff_samples < min_time_diff_samples:\n",
    "                    min_time_diff_samples = time_diff_samples\n",
    "                    min_bad = ibad\n",
    "            if min_bad is None:\n",
    "                print(f\"sim {isim}, pixel {ipixel}: no bad ph for missing ph {imissing}\")\n",
    "                raise ValueError(\"No bad reconstructed photon found for missing photon\")\n",
    "            if min_time_diff_samples > 100:\n",
    "                print(f\"sim {isim}, pixel {ipixel}: missing ph {imissing} and bad ph {min_bad} are separated by {min_time_diff_samples:.2f} samples\")\n",
    "                raise ValueError(\"Time difference between missing and bad reconstructed photons is too large\")\n",
    "            # append the minimum time difference to the list of missing distances\n",
    "            missing_distances.append(min_time_diff_samples)\n",
    "            auxiliary.vprint(f\"sim {isim}, pixel {ipixel}, missing ph {imissing}, bad ph {min_bad}, min time diff {min_time_diff_samples:.2f}\")\n"
   ]
  },
  {
   "cell_type": "code",
   "execution_count": null,
   "metadata": {},
   "outputs": [],
   "source": [
    "print(np.min(missing_distances), np.max(missing_distances))"
   ]
  },
  {
   "cell_type": "code",
   "execution_count": null,
   "metadata": {},
   "outputs": [],
   "source": [
    "# plot histogram of missing distances in samples\n",
    "plt.hist(missing_distances, bins=10)\n",
    "plt.xlabel(\"Time difference (samples)\")\n",
    "plt.ylabel(\"Frequency\")\n",
    "plt.title(\"Histogram of time differences between missing and bad-reconstructed photons\")\n"
   ]
  },
  {
   "cell_type": "code",
   "execution_count": null,
   "metadata": {},
   "outputs": [],
   "source": []
  }
 ],
 "metadata": {
  "kernelspec": {
   "display_name": "GSFCenv",
   "language": "python",
   "name": "python3"
  },
  "language_info": {
   "codemirror_mode": {
    "name": "ipython",
    "version": 3
   },
   "file_extension": ".py",
   "mimetype": "text/x-python",
   "name": "python",
   "nbconvert_exporter": "python",
   "pygments_lexer": "ipython3",
   "version": "3.12.7"
  }
 },
 "nbformat": 4,
 "nbformat_minor": 2
}
