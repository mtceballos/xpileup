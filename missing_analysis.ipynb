{
 "cells": [
  {
   "cell_type": "markdown",
   "metadata": {},
   "source": [
    "# Analysis of missing pulses   \n",
    "\n",
    "For a given flux and exposure time this notebook analyzes the missing ('non-reconstructed') photons and plots the\n",
    "distribution of separations to their partner ('Bad-reconstructed' pulse).\n",
    "\n",
    "1. Import modules   \n",
    "2. Read parameters of simulation   \n",
    "3. Analysis of bad/non-reconstructed pulses   \n",
    "   * 3.1. Check distances between a missing photon and its corresponding \"bad-reconstructed\" photon:    \n",
    "        - For each simulation:   \n",
    "            * read CSV file with assignation of *missing* & *bad-reconstructed*   \n",
    "            * for each *missing* photon: get *bad-reconstructed* partner   \n",
    "                * read info in `piximpact` file   \n",
    "                * calculate minimum of the distances to all *bad-reconstructed*: this is its partner   \n",
    "                * save distance to global list of distances    \n",
    "                * Alert if:   \n",
    "                    * No *bad-reconstructed* photon is found for each *missing* photon: raise Error    \n",
    "                    * Separation [*missing*-*bad_renconstructed*] > 100: raise Error\n",
    "                    * Separation [*missing*-*bad_renconstructed*] > 30: warning to check particular cases    \n",
    "    * 3.2 Plot histogram of distances   \n"
   ]
  },
  {
   "cell_type": "markdown",
   "metadata": {},
   "source": [
    "### Import modules"
   ]
  },
  {
   "cell_type": "code",
   "execution_count": null,
   "metadata": {},
   "outputs": [],
   "source": [
    "# Do standard imports\n",
    "import numpy as np\n",
    "import matplotlib.pyplot as plt\n",
    "import pandas as pd\n",
    "from astropy.io import fits, ascii\n",
    "from astropy.table import Table\n",
    "import os\n",
    "import ast\n",
    "import auxiliary "
   ]
  },
  {
   "cell_type": "markdown",
   "metadata": {},
   "source": [
    "### Set simulation parameters"
   ]
  },
  {
   "cell_type": "code",
   "execution_count": null,
   "metadata": {},
   "outputs": [],
   "source": [
    "nsims = 100\n",
    "fluxDir = f\"{os.getcwd()}/flux0.50mcrab/\"\n",
    "exposure = 4331\n",
    "sampling_rate=130210 #Hz\n",
    "auxiliary.verbose = 0\n",
    "#global_csv_file = \"info_nofilt_infoc_global.csv\"\n",
    "global_csv_file = \"info_nofilt_infoc.csv\""
   ]
  },
  {
   "cell_type": "markdown",
   "metadata": {},
   "source": [
    "## Analysis of missing and bad-reconstructed photons"
   ]
  },
  {
   "cell_type": "markdown",
   "metadata": {},
   "source": [
    "### Pile-up photons separations \n",
    "\n",
    "Check distances between a missing photon and its corresponding \"bad-reconstructed\" photon"
   ]
  },
  {
   "cell_type": "code",
   "execution_count": null,
   "metadata": {},
   "outputs": [],
   "source": [
    "missing_distances = list()\n",
    "missing_energies  = list()\n",
    "\n",
    "for i in range(nsims):\n",
    "    isim = i + 1\n",
    "    csv_file = f\"{fluxDir}/sim_{isim}/00_info_nofilt_infoc_sim{isim}_missing.csv\"\n",
    "    missing_table = pd.read_csv(csv_file, converters={\"Non-reconstructed photons\": ast.literal_eval,\"Bad-reconstructed photons\": ast.literal_eval})\n",
    "    \n",
    "    #read table row by row:\n",
    "    # Frist column is an integer value that represents the pixel id\n",
    "    # Second column is a list of integers that represents the PH_ID of the missing photons\n",
    "    # Third column is a list of integers that represents the PH_ID of the photons that are bad reconstructed    \n",
    "    for i, row in missing_table.iterrows():\n",
    "        ipixel = row[\"Pixel\"]\n",
    "        missing_phs_id = row[\"Non-reconstructed photons\"]\n",
    "        bad_recons_phs_id = row[\"Bad-reconstructed photons\"]\n",
    "        auxiliary.vprint(f\"sim {isim}, pixel {ipixel}, missing photons {missing_phs_id}, bad reconstructed photons {bad_recons_phs_id}\")\n",
    "        # identify piximpact file for pixel\n",
    "        piximpact_file = f\"{fluxDir}/sim_{isim}/crab_flux0.50_Emin2_Emax10_exp{exposure}_RA0.0_Dec0.0_nofilt_infoc_pixel{ipixel}_piximpact.fits\"\n",
    "        # create a dictionary: keys are the ipixels; values are lists of missing distances\n",
    "        # read TIME and PH_ID columns of piximpact FITS file\n",
    "\n",
    "        with fits.open(piximpact_file) as hdul:\n",
    "            piximpact_data = hdul[1].data\n",
    "            time = piximpact_data[\"TIME\"].copy()\n",
    "            ph_id = piximpact_data[\"PH_ID\"].copy()\n",
    "            simenergy = piximpact_data[\"ENERGY\"].copy()\n",
    "        # foreach missing photon, find the minimum TIME distance to the bad reconstructed photons (find its 'partner')\n",
    "        for imissing in missing_phs_id:\n",
    "            missing_time = time[ph_id == imissing][0] \n",
    "            min_time_diff_samples = float(\"inf\")   \n",
    "            # find the bad reconstructed photon that is closest in time to the missing photon\n",
    "            min_bad = None\n",
    "            for ibad in bad_recons_phs_id:\n",
    "                bad_time = time[ph_id == ibad][0]\n",
    "                time_diff_samples = np.abs(missing_time - bad_time)*sampling_rate\n",
    "                if time_diff_samples < min_time_diff_samples:\n",
    "                    min_time_diff_samples = time_diff_samples\n",
    "                    min_bad = ibad\n",
    "            if min_bad is None:\n",
    "                print(f\"sim {isim}, pixel {ipixel}: no bad ph for missing ph {imissing}\")\n",
    "                raise ValueError(\"No bad reconstructed photon found for missing photon\")\n",
    "            if min_time_diff_samples > 100:\n",
    "                print(f\"sim {isim}, pixel {ipixel}: missing ph {imissing} and bad ph {min_bad} are separated by {min_time_diff_samples:.2f} samples\")\n",
    "                raise ValueError(\"Time difference between missing and bad reconstructed photons is too large\")\n",
    "            if min_time_diff_samples > 30:\n",
    "                print(f\"WARNING:sim {isim}, pixel {ipixel}: missing ph {imissing} and bad ph {min_bad} are separated by {min_time_diff_samples:.2f} samples\")\n",
    "    \n",
    "            # append the minimum time difference to the list of missing distances\n",
    "            missing_distances.append(min_time_diff_samples)\n",
    "            missing_energies.append(simenergy[ph_id == min_bad][0])\n",
    "            auxiliary.vprint(f\"sim {isim}, pixel {ipixel}, missing ph {imissing}, bad ph {min_bad}, min time diff {min_time_diff_samples:.2f}\")\n"
   ]
  },
  {
   "cell_type": "code",
   "execution_count": null,
   "metadata": {},
   "outputs": [],
   "source": [
    "print(np.min(missing_distances), np.max(missing_distances))"
   ]
  },
  {
   "cell_type": "markdown",
   "metadata": {},
   "source": [
    "### Distribution of pileup separations and energies"
   ]
  },
  {
   "cell_type": "code",
   "execution_count": null,
   "metadata": {},
   "outputs": [],
   "source": [
    "# read global CSV table with info of all simulations\n",
    "# look for \"Nimpacts\" column info selecting where the 'exposure[s]' matches the exposure of the simulations and the 'flux[mcrab]' matches the flux of the simulations\n",
    "global_table = pd.read_csv(global_csv_file)\n",
    "global_table = global_table[global_table[\"exposure[s]\"] == exposure]\n",
    "global_table = global_table[global_table[\"flux[mcrab]\"] == 0.50]\n",
    "global_table = global_table[global_table[\"filter\"] == \"nofilt\"]\n",
    "# get total number of impacts (for all 'simulation')\n",
    "Nimpacts = global_table[\"Nimpacts\"].sum()\n",
    "print(f\"Total number of impacts: {Nimpacts}\")\n",
    "Nmissing = len(missing_distances)\n",
    "print(f\"Total number of missing impacts: {Nmissing}\")"
   ]
  },
  {
   "cell_type": "code",
   "execution_count": null,
   "metadata": {},
   "outputs": [],
   "source": [
    "# create a figure with two plots\n",
    "fig, (ax1,ax2) = plt.subplots(1,2, figsize=(12,6))\n",
    "# plot histogram of distances (in samples) for missing photons\n",
    "ax1.hist(missing_distances, bins=50, edgecolor='black')\n",
    "ax1.set_xlabel(\"Time difference (samples)\")\n",
    "ax1.set_ylabel(\"# missing photons\")\n",
    "ax1.set_title(\"Time separations of missing photons\")\n",
    "# write text on the plot: number of simulations, flux, exposure, sampling rate\n",
    "text = f\"nsims = {nsims}\\nNimpacts = {Nimpacts}\\nNmissing = {Nmissing}\\nflux = 0.50 mCrab\\nexposure = {exposure} s\\nsampling rate = {sampling_rate} Hz\"\n",
    "ax1.text(0.5, 0.95, text, transform=ax1.transAxes, fontsize=10, verticalalignment='top')\n",
    "\n",
    "# plot histogram of energies of missing photons\n",
    "ax2.hist(missing_energies, bins=50, edgecolor='black')\n",
    "ax2.set_xlabel(\"Energy (keV)\")\n",
    "ax2.set_ylabel(\"# missing photons\")\n",
    "ax2.set_title(\"Simulation Energy of missing photons\")\n",
    "# write text on the plot: number of simulations, flux, exposure, sampling rate\n",
    "text = f\"nsims = {nsims}\\nNimpacts = {Nimpacts}\\nNmissing = {Nmissing}\\nflux = 0.50 mCrab\\nexposure = {exposure} s\"\n",
    "ax2.text(0.5, 0.95, text, transform=ax2.transAxes, fontsize=10, verticalalignment='top')\n",
    "plt.show()\n"
   ]
  },
  {
   "cell_type": "markdown",
   "metadata": {},
   "source": []
  },
  {
   "cell_type": "code",
   "execution_count": null,
   "metadata": {},
   "outputs": [],
   "source": []
  }
 ],
 "metadata": {
  "kernelspec": {
   "display_name": "GSFCenv",
   "language": "python",
   "name": "python3"
  },
  "language_info": {
   "codemirror_mode": {
    "name": "ipython",
    "version": 3
   },
   "file_extension": ".py",
   "mimetype": "text/x-python",
   "name": "python",
   "nbconvert_exporter": "python",
   "pygments_lexer": "ipython3",
   "version": "3.12.7"
  }
 },
 "nbformat": 4,
 "nbformat_minor": 2
}
