{
 "cells": [
  {
   "cell_type": "markdown",
   "metadata": {},
   "source": [
    "# Analysis of missing pulses   \n",
    "\n",
    "For a given flux and exposure time this notebook analyzes the missing ('non-reconstructed') photons and plots the\n",
    "distribution of separations to their partner ('Bad-reconstructed' pulse).\n",
    "\n",
    "1. Import modules   \n",
    "2. Read parameters of simulation   \n",
    "3. Analysis of bad/non-reconstructed pulses   \n",
    "   * 3.1. Check distances between a missing photon and its corresponding \"bad-reconstructed\" photon:    \n",
    "        - For each simulation:   \n",
    "            * read CSV file with assignation of *missing* & *bad-reconstructed*   \n",
    "            * for each *missing* photon: get *bad-reconstructed* partner   \n",
    "                * read info in `piximpact` file   \n",
    "                * calculate minimum of the distances to all *bad-reconstructed*: this is its partner   \n",
    "                * save distance to global list of distances    \n",
    "                * Alert if:   \n",
    "                    * No *bad-reconstructed* photon is found for each *missing* photon: raise Error    \n",
    "                    * Separation [*missing*-*bad_renconstructed*] > 100: raise Error\n",
    "                    * Separation [*missing*-*bad_renconstructed*] > 30: warning to check particular cases    \n",
    "    * 3.2 Plot histograms of:   \n",
    "        - separations   \n",
    "        - energies of missing photons   \n",
    "        - energies of badrecons photons   \n"
   ]
  },
  {
   "cell_type": "code",
   "execution_count": null,
   "metadata": {},
   "outputs": [],
   "source": [
    "from IPython.display import display, Image\n",
    "display(Image(\"images/pileup.png\", width=350))"
   ]
  },
  {
   "cell_type": "markdown",
   "metadata": {},
   "source": [
    "### Import modules"
   ]
  },
  {
   "cell_type": "code",
   "execution_count": null,
   "metadata": {},
   "outputs": [],
   "source": [
    "# Do standard imports\n",
    "import numpy as np\n",
    "import matplotlib.pyplot as plt\n",
    "import pandas as pd\n",
    "from astropy.io import fits, ascii\n",
    "from astropy.table import Table\n",
    "from astropy.visualization import hist\n",
    "\n",
    "import os\n",
    "import ast\n",
    "import auxiliary "
   ]
  },
  {
   "cell_type": "markdown",
   "metadata": {},
   "source": [
    "### Set simulation parameters"
   ]
  },
  {
   "cell_type": "code",
   "execution_count": null,
   "metadata": {},
   "outputs": [],
   "source": [
    "nsims = 100\n",
    "fluxDir = f\"{os.getcwd()}/flux0.50mcrab/\"\n",
    "exposure = 4331\n",
    "sampling_rate=130210 #Hz\n",
    "secondary_samples = 1563\n",
    "auxiliary.verbose = 1\n",
    "global_csv_file = \"info_nofilt_infoc_global_0.500mCrab.csv\""
   ]
  },
  {
   "cell_type": "markdown",
   "metadata": {},
   "source": [
    "## Analysis of missing and bad-reconstructed photons"
   ]
  },
  {
   "cell_type": "markdown",
   "metadata": {},
   "source": [
    "### Pile-up photons separations \n",
    "\n",
    "Check distances between a missing photon and its corresponding \"bad-reconstructed\" photon"
   ]
  },
  {
   "cell_type": "code",
   "execution_count": null,
   "metadata": {},
   "outputs": [],
   "source": [
    "missing_distances = list()\n",
    "missing_energies  = list()\n",
    "badrecons_energies = list()\n",
    "badrecons_energies_secondaries = list()\n",
    "badrecons_energies_lowres = list()\n",
    "badrecons_energies_primaries = list()\n",
    "impact_energies = list()\n",
    "\n",
    "for i in range(nsims):\n",
    "    isim = i + 1\n",
    "    #if isim > 1:\n",
    "    #    continue\n",
    "    csv_file = f\"{fluxDir}/sim_{isim}/00_info_nofilt_infoc_sim{isim}_missing.csv\"\n",
    "    missing_table = pd.read_csv(csv_file, converters={\"Non-reconstructed photons\": ast.literal_eval,\n",
    "                                                      \"Bad-reconstructed photons\": ast.literal_eval,\n",
    "                                                      \"GRADE1 Bad-recons\": ast.literal_eval,\n",
    "                                                      \"GRADE2 Bad-recons\": ast.literal_eval})\n",
    "    \n",
    "    #read table row by row:\n",
    "    # Frist column is an integer value that represents the pixel id\n",
    "    # Second column is a list of integers that represents the PH_ID of the missing photons\n",
    "    # Third column is a list of integers that represents the PH_ID of the photons that are bad reconstructed    \n",
    "    for i, row in missing_table.iterrows():\n",
    "        ipixel = row[\"Pixel\"]\n",
    "        missing_phs_id = row[\"Non-reconstructed photons\"]\n",
    "        bad_recons_phs_id = row[\"Bad-reconstructed photons\"]\n",
    "        bad_recons_grade1 = row[\"GRADE1 Bad-recons\"]\n",
    "        bad_recons_grade2 = row[\"GRADE2 Bad-recons\"]\n",
    "        auxiliary.vprint(f\"sim {isim}, pixel {ipixel}, missing photons {missing_phs_id}, bad reconstructed photons {bad_recons_phs_id}\")\n",
    "        # identify sirena file\n",
    "        sirena_file = f\"{fluxDir}/sim_{isim}/crab_flux0.50_Emin2_Emax10_exp{exposure}_RA0.0_Dec0.0_nofilt_infoc_pixel{ipixel}_sirena.fits\"\n",
    "        # identify piximpact file for pixel\n",
    "        piximpact_file = f\"{fluxDir}/sim_{isim}/crab_flux0.50_Emin2_Emax10_exp{exposure}_RA0.0_Dec0.0_nofilt_infoc_pixel{ipixel}_piximpact.fits\"\n",
    "        # read TIME and PH_ID columns of piximpact FITS file\n",
    "        with fits.open(piximpact_file) as hdul:\n",
    "            piximpact_data = hdul[1].data\n",
    "            time = piximpact_data[\"TIME\"].copy()\n",
    "            ph_id = piximpact_data[\"PH_ID\"].copy()\n",
    "            simenergy = piximpact_data[\"ENERGY\"].copy()\n",
    "            # add values in simenergy to impact_energies\n",
    "            impact_energies.extend(simenergy)\n",
    "        # foreach missing photon, find the minimum TIME distance to the bad reconstructed photons (find its 'partner')\n",
    "        for imissing in missing_phs_id:\n",
    "            missing_time = time[ph_id == imissing][0] \n",
    "            min_time_diff_samples = float(\"inf\")   \n",
    "            # find the bad reconstructed photon that is closest in time to the missing photon\n",
    "            min_bad = None\n",
    "            for ibad in bad_recons_phs_id:\n",
    "                bad_time = time[ph_id == ibad][0]\n",
    "                time_diff_samples = np.abs(missing_time - bad_time)*sampling_rate\n",
    "                if time_diff_samples < min_time_diff_samples:\n",
    "                    min_time_diff_samples = time_diff_samples\n",
    "                    min_bad = ibad\n",
    "            if min_bad is None:\n",
    "                print(f\"sim {isim}, pixel {ipixel}: no bad ph for missing ph {imissing}\")\n",
    "                raise ValueError(\"No bad reconstructed photon found for missing photon\")\n",
    "            if min_time_diff_samples > 100:\n",
    "                print(f\"sim {isim}, pixel {ipixel}: missing ph {imissing} and bad ph {min_bad} are separated by {min_time_diff_samples:.2f} samples\")\n",
    "                raise ValueError(\"Time difference between missing and bad reconstructed photons is too large\")\n",
    "            if min_time_diff_samples > 30:\n",
    "                print(f\"WARNING:sim {isim}, pixel {ipixel}: missing ph {imissing} and bad ph {min_bad} are separated by {min_time_diff_samples:.2f} samples\")\n",
    "    \n",
    "            # append the minimum time difference to the list of missing distances\n",
    "            missing_distances.append(min_time_diff_samples)\n",
    "            missing_energies.append(simenergy[ph_id == imissing][0])\n",
    "            auxiliary.vprint(f\"sim {isim}, pixel {ipixel}, missing ph {imissing}, bad ph {min_bad}, min time diff {min_time_diff_samples:.2f}\")\n",
    "        \n",
    "        # check bad-recons photons\n",
    "        for ib in range(len(bad_recons_phs_id)):\n",
    "            badr = bad_recons_phs_id[ib]\n",
    "            badr_energy = simenergy[ph_id == badr][0]\n",
    "            badr_grade1 = bad_recons_grade1[ib] \n",
    "            badr_grade2 = bad_recons_grade2[ib]\n",
    "            if badr_grade2 <= secondary_samples:\n",
    "                auxiliary.vprint(f\"........bad-recons ph {badr}, grade1 {badr_grade1}, grade2 {badr_grade2}: SECONDARY\")\n",
    "                badrecons_energies_secondaries.append(badr_energy)\n",
    "            elif badr_grade1 == 8:\n",
    "                auxiliary.vprint(f\"........bad-recons ph {badr}, grade1 {badr_grade1}, grade2 {badr_grade2}: LOWRES\")\n",
    "                badrecons_energies_lowres.append(badr_energy)\n",
    "            else:\n",
    "                auxiliary.vprint(f\"........bad-recons ph {badr}, grade1 {badr_grade1}, grade2 {badr_grade2}: PRIMARY\")\n",
    "                badrecons_energies_primaries.append(badr_energy)\n",
    "            badrecons_energies.append(badr_energy)\n"
   ]
  },
  {
   "cell_type": "markdown",
   "metadata": {},
   "source": [
    "### Distribution of pileup separations and energies"
   ]
  },
  {
   "cell_type": "code",
   "execution_count": null,
   "metadata": {},
   "outputs": [],
   "source": [
    "# read global CSV table with info of all simulations\n",
    "# look for \"Nimpacts\" column info selecting where the 'exposure[s]' matches the exposure of the simulations and the 'flux[mcrab]' matches the flux of the simulations\n",
    "global_table = pd.read_csv(global_csv_file)\n",
    "global_table = global_table[global_table[\"exposure[s]\"] == exposure]\n",
    "global_table = global_table[global_table[\"flux[mcrab]\"] == 0.50]\n",
    "global_table = global_table[global_table[\"filter\"] == \"nofilt\"]\n",
    "# get total number of impacts (for all 'simulation')\n",
    "Nimpacts = global_table[\"Nimpacts\"].sum()\n",
    "print(f\"Total number of impacts: {Nimpacts}\")\n",
    "Nmissing = len(missing_distances)\n",
    "print(f\"Total number of missing impacts: {Nmissing}\")\n",
    "Nbadrecons = len(badrecons_energies)\n",
    "print(f\"Total number of bad reconstructed impacts: {Nbadrecons}\")"
   ]
  },
  {
   "cell_type": "code",
   "execution_count": null,
   "metadata": {},
   "outputs": [],
   "source": [
    "# create a figure with two plots\n",
    "fig, (ax1,ax2) = plt.subplots(1,2, figsize=(12,6))\n",
    "# In ax1: plot histogram of distances (in samples) for missing photons\n",
    "#ax1.hist(missing_distances, bins=50, edgecolor='black')\n",
    "hist(missing_distances, bins='scott', ax=ax1, edgecolor='black')\n",
    "ax1.set_xlabel(\"Time difference (samples)\")\n",
    "ax1.set_ylabel(\"# missing photons\")\n",
    "ax1.set_title(\"Time separations of missing photons\")\n",
    "# write text on the plot: number of simulations, flux, exposure, sampling rate\n",
    "text = f\"nsims = {nsims}\\nNimpacts = {Nimpacts}\\nNmissing = {Nmissing}\\nflux = 0.50 mCrab\\nexposure = {exposure} s\\nsampling rate = {sampling_rate} Hz\"\n",
    "ax1.text(0.5, 0.95, text, transform=ax1.transAxes, fontsize=10, verticalalignment='top')\n",
    "\n",
    "# In ax2:\n",
    "all_data = [impact_energies, badrecons_energies, missing_energies]\n",
    "# plot histogram of energies of impact photons\n",
    "#ax2.hist(impact_energies, bins=50, edgecolor='black', alpha=0.5, label=\"impact photons\")\n",
    "# plot histogram of energies of missing & bad-reconstructed photons\n",
    "#ax2.hist(missing_energies, bins=50, alpha=0.5, histtype='step',label=[\"missing photons\"])\n",
    "hist(missing_energies,ax=ax2, alpha=0.8, bins='scott',histtype='step',label=[\"missing photons\"])\n",
    "hist(badrecons_energies,ax=ax2,alpha=0.8, bins='scott',histtype='step',label=[\"bad-recons photons\\n(all)\"])\n",
    "hist(badrecons_energies_secondaries,ax=ax2,alpha=0.5, bins='scott',label=[\"bad-recons photons\\n(secondary)\"])\n",
    "hist(badrecons_energies_lowres,ax=ax2,alpha=0.5, bins='scott',label=[\"bad-recons photons\\n(low-res)\"])\n",
    "hist(badrecons_energies_primaries,ax=ax2,alpha=0.5, bins='scott',histtype='step',label=[\"bad-recons photons\\n(primary)\"])\n",
    "# plot histogram of energies of bad-reconstructed photons\n",
    "ax2.legend()\n",
    "ax2.set_xlabel(\"Energy (keV)\")\n",
    "ax2.set_ylabel(\"# photons\")\n",
    "ax2.set_title(\"Photon energy distribution\")\n",
    "# write text on the plot: number of simulations, flux, exposure, sampling rate\n",
    "text = f\"nsims = {nsims}\\nNimpacts = {Nimpacts}\\nNmissing = {Nmissing}\\nflux = 0.50 mCrab\\nexposure = {exposure} s\"\n",
    "ax2.text(0.5, 0.95, text, transform=ax2.transAxes, fontsize=10, verticalalignment='top')\n",
    "plt.show()\n"
   ]
  },
  {
   "cell_type": "markdown",
   "metadata": {},
   "source": []
  },
  {
   "cell_type": "code",
   "execution_count": null,
   "metadata": {},
   "outputs": [],
   "source": []
  }
 ],
 "metadata": {
  "kernelspec": {
   "display_name": "GSFCenv",
   "language": "python",
   "name": "python3"
  },
  "language_info": {
   "codemirror_mode": {
    "name": "ipython",
    "version": 3
   },
   "file_extension": ".py",
   "mimetype": "text/x-python",
   "name": "python",
   "nbconvert_exporter": "python",
   "pygments_lexer": "ipython3",
   "version": "3.12.7"
  }
 },
 "nbformat": 4,
 "nbformat_minor": 2
}
