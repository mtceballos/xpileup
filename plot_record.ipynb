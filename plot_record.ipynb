{
 "cells": [
  {
   "cell_type": "markdown",
   "id": "044b1750",
   "metadata": {},
   "source": [
    "# PLOT FITS xifusim records (pulses)"
   ]
  },
  {
   "cell_type": "code",
   "execution_count": null,
   "id": "bf812cbc",
   "metadata": {},
   "outputs": [],
   "source": [
    "# Do standard imports\n",
    "import numpy as np\n",
    "import matplotlib.pyplot as plt\n",
    "import pandas as pd\n",
    "import glob\n",
    "from astropy.io import fits, ascii\n",
    "from astropy.table import Table\n",
    "from astropy.visualization import hist\n",
    "\n",
    "import os\n",
    "import ast\n",
    "import auxiliary as aux "
   ]
  },
  {
   "cell_type": "code",
   "execution_count": null,
   "id": "341b7f08",
   "metadata": {},
   "outputs": [],
   "source": [
    "# xifusim FITS file\n",
    "#datadir = \"/dataj6/ceballos/INSTRUMEN/EURECA/TN350_detection/2024_revision/flux316.20mcrab/sim_1/\"\n",
    "#xifusim_file = \"crab_flux316.20_Emin2_Emax10_exp3_RA0.0_Dec0.0_nofilt_defoc_pixel252_xifusim.fits\"\n",
    "datadir = \"/dataj6/ceballos/INSTRUMEN/EURECA/TN350_detection/2024_revision/singles\"\n",
    "xifusim_file = \"mono0.4keV_5000p_50x30.fits\"\n",
    "record_to_plt = 1"
   ]
  },
  {
   "cell_type": "code",
   "execution_count": null,
   "id": "e8116771",
   "metadata": {},
   "outputs": [],
   "source": [
    "# read record\n",
    "xifusim_file = os.path.join(datadir, xifusim_file)\n",
    "xifusim = fits.open(xifusim_file)\n",
    "# read the data\n",
    "xifusim_data = xifusim[\"TESRECORDS\"].data\n",
    "# read ADC column in row = record_to_plt\n",
    "adc = xifusim_data[record_to_plt-1][\"ADC\"]\n",
    "# plot the ADC: use ax and fig\n",
    "fig, ax = plt.subplots()\n",
    "# plot the ADC vs index number\n",
    "ax.plot(adc, label=\"ADC\", color=\"C3\", ls=\"--\")\n",
    "#ax.set_xlim(6360, 6400)\n",
    "ax.set_xlim(981, 1021)\n",
    "ax.set_ylim(6270, 7250)\n",
    "ax.set_xlabel(\"Sample\")\n",
    "ax.set_ylabel(\"ADC (ADU)\")\n",
    "\n",
    "# draw arrows indicating the start of three pulses\n",
    "x1 = 6365\n",
    "x2 = 6377\n",
    "x3 = 6379\n",
    "\n",
    "\"\"\"\n",
    "ax.annotate(\"\", xy=(x1, adc[x1]), xytext=(x1, 6270),\n",
    "            arrowprops=dict(arrowstyle=\"->\", color=\"C2\", lw=1.5))\n",
    "ax.annotate(\"\", xy=(x2, adc[x2]), xytext=(x2, 6270),\n",
    "            arrowprops=dict(arrowstyle=\"->\", color=\"C3\", lw=1.5))\n",
    "ax.annotate(\"\", xy=(x3, adc[x3]), xytext=(x3, 6270),\n",
    "            arrowprops=dict(arrowstyle=\"->\", color=\"C3\", lw=1.5))\n",
    "\"\"\"\n",
    "fig.tight_layout()"
   ]
  },
  {
   "cell_type": "code",
   "execution_count": null,
   "id": "92426e12",
   "metadata": {},
   "outputs": [],
   "source": [
    "# save figure to png file with transparent background\n",
    "filename = f\"{datadir}/mono0.4.png\"\n",
    "#filename = f\"{datadir}/adc_record_{record_to_plt}.png\"\n",
    "fig.savefig(filename, dpi=300, bbox_inches='tight', transparent=True)\n"
   ]
  },
  {
   "cell_type": "code",
   "execution_count": null,
   "id": "06dce1e9",
   "metadata": {},
   "outputs": [],
   "source": []
  }
 ],
 "metadata": {
  "kernelspec": {
   "display_name": "GSFCenv",
   "language": "python",
   "name": "python3"
  },
  "language_info": {
   "codemirror_mode": {
    "name": "ipython",
    "version": 3
   },
   "file_extension": ".py",
   "mimetype": "text/x-python",
   "name": "python",
   "nbconvert_exporter": "python",
   "pygments_lexer": "ipython3",
   "version": "3.13.3"
  }
 },
 "nbformat": 4,
 "nbformat_minor": 5
}
