{
 "cells": [
  {
   "cell_type": "markdown",
   "id": "d6329e01",
   "metadata": {},
   "source": [
    "# Simulate STREAMS for Crab spectrum source  \n",
    "This notebook simulates a Crab spectrum source with 1 sec exposure time in xifusim producing data streams (not Triggered) for the 384 brightest pixels according to input list of pixels by E. Cucchetti.   "
   ]
  },
  {
   "cell_type": "markdown",
   "id": "134fc31c",
   "metadata": {},
   "source": [
    "Source spectral model:   \n",
    "`CRAB`  (EC)   \n",
    " - XSPEC model: TBabs*powerlaw    \n",
    " - Power law slope: $\\Gamma=2.1$      \n",
    " - Foregroung absorption: $N_H=4\\times 10^{21} \\rm{cm^{-2}}$    \n",
    " - Power law Normalization: 9.5\n",
    " - 2-10 Flux = 2.05E-8 erg/cm2/s (1Crab)"
   ]
  },
  {
   "cell_type": "markdown",
   "id": "12e71281-feba-415c-9f35-a42151b8939e",
   "metadata": {},
   "source": [
    "Simulation steps   \n",
    "1. Read simulation parameters and derived parameters   \n",
    "2. HEASOFT `xspec`: create xspec model file    \n",
    "3. SIXTE `simputfile`: Create simput file with photons distribution    \n",
    "4. SIXTE `sixtesim`: Run simulation to get   \n",
    "    4.1 ImpactList - piximpact file for ALL photons    \n",
    "    4.2 EventList - which photons (PH_ID) impact in each pixel of the detector (possibly including background and XTalk)   \n",
    "    4.3 PixImpactList: piximpact file for each pixel with impacts (PH_ID) (needed by xifusim)   \n",
    "5. Get list of pixels w/ impacts.   \n",
    "    5.1. Compare count rate of brightest pixels w/ EC's input list (+5 ct/s/pix to accomodate MXS): adjust flux_mcrab if needed   \n",
    "    5.2. `xifusim`: Do single-pixel (NOMUX) xifusim simulation     \n",
    "    \n",
    "    "
   ]
  },
  {
   "cell_type": "markdown",
   "id": "e2ce91bc",
   "metadata": {},
   "source": [
    "## Import routines and read parameters"
   ]
  },
  {
   "cell_type": "code",
   "execution_count": null,
   "id": "3ade1182-95cf-47ad-b33f-c6392df08819",
   "metadata": {},
   "outputs": [],
   "source": [
    "import os\n",
    "from subprocess import run\n",
    "import tempfile\n",
    "import glob\n",
    "from astropy.io import fits\n",
    "from astropy.table import Table\n",
    "import numpy as np\n",
    "from xspec import Xset, Model, AllModels\n"
   ]
  },
  {
   "cell_type": "code",
   "execution_count": null,
   "id": "df0b7fbe",
   "metadata": {},
   "outputs": [],
   "source": [
    "tmpDir = tempfile.mkdtemp()\n",
    "os.environ[\"PFILES\"] = f\"{tmpDir}:{os.environ['PFILES']}\"\n",
    "os.environ[\"HEADASNOQUERY\"] = \"\"\n",
    "os.environ[\"HEADASPROMPT\"] = \"/dev/null/\"\n",
    "SIXTE = os.environ[\"SIXTE\"]\n",
    "verbose = 0"
   ]
  },
  {
   "cell_type": "code",
   "execution_count": null,
   "id": "027a5083",
   "metadata": {},
   "outputs": [],
   "source": [
    "def vprint(*args, **kwargs):\n",
    "    \"\"\"\n",
    "    Print function that can be turned on/off with the verbose variable.\n",
    "    \"\"\"\n",
    "    if verbose > 0:\n",
    "        print(*args, **kwargs)\n"
   ]
  },
  {
   "cell_type": "markdown",
   "id": "9fdf29b2",
   "metadata": {},
   "source": [
    "### Read simulation parameters   "
   ]
  },
  {
   "cell_type": "code",
   "execution_count": null,
   "id": "d932fb40",
   "metadata": {
    "tags": [
     "parameters"
    ]
   },
   "outputs": [],
   "source": [
    "#flux_mcrab = 950 #mCrab -->most similar case to input file\n",
    "# 1 mCrab = 90 counts/s in the 2-10 keV band and 2.0533E-11 erg/cm^2/s\n",
    "flux_mcrab = 1150\n",
    "exposure = 1 #s\n",
    "nonxbgd=\"no\" #yes/no\n",
    "XTalk=\"none\" # all, elec, therm, tdm_prop, tdm_prop1, tdm_prop2, tdm_der, none\n",
    "verbose = 1"
   ]
  },
  {
   "cell_type": "code",
   "execution_count": null,
   "id": "8153b645",
   "metadata": {},
   "outputs": [],
   "source": [
    "model = \"crab\"\n",
    "filter = \"thickBe\"\n",
    "focus = 'defoc'\n",
    "RA=0.\n",
    "Dec=0.\n",
    "sampling_rate=130210 #Hz\n",
    "prebuff_xifusim=1500  #prebuffer samples for xifusim\n",
    "flux = flux_mcrab * 2.0533E-11\n",
    "#rate = flux_mcrab * 90 #counts/s\n",
    "flux_mcrab_str = f\"{flux_mcrab:.2f}\"\n",
    "Emin = 2.0\n",
    "Emax = 10.0\n",
    "brightest_pixels_file = \"brightest_pix_ctrate.txt\""
   ]
  },
  {
   "cell_type": "markdown",
   "id": "31ecaad6",
   "metadata": {},
   "source": [
    "### Set XML files for simulations (sixtesim and xifusim)"
   ]
  },
  {
   "cell_type": "code",
   "execution_count": null,
   "id": "ff8ae461",
   "metadata": {},
   "outputs": [],
   "source": [
    "## Set XML file for sixte simulation\n",
    "xmldir = f\"{SIXTE}/share/sixte/instruments/athena-xifu/internal_design_goal\"\n",
    "xml_sixtesim = f\"{xmldir}/xifu_{filter}_defoc.xml\"\n",
    "vprint(f\"Using sixtesim XML file: {xml_sixtesim}\")\n",
    "\n",
    "# Find name of (unique) xml file in indir directory\n",
    "xml_xifusim = glob.glob(f\"./config*.xml\")\n",
    "if len(xml_xifusim) != 1:\n",
    "    raise FileNotFoundError(f\"Error: expected 1 XML file but found {len(xml_xifusim)}\")\n",
    "xml_xifusim = xml_xifusim[0]\n",
    "vprint(f\"Using XIFUSIM XML file: {xml_xifusim}\")"
   ]
  },
  {
   "cell_type": "code",
   "execution_count": null,
   "id": "02388daa",
   "metadata": {},
   "outputs": [],
   "source": [
    "# set string to name files based on input parameters\n",
    "filestring_simput = f\"./{model}_flux{flux_mcrab_str}mcrab\"\n",
    "filestring = f\"./{model}_flux{flux_mcrab_str}mcrab_{filter}_{focus}\"\n",
    "print(filestring)"
   ]
  },
  {
   "cell_type": "markdown",
   "id": "198f9394",
   "metadata": {},
   "source": [
    "## Do SIXTESIM simulation    \n",
    "Files required:   \n",
    "- XSPEC file \n",
    "- SIMPUT file   "
   ]
  },
  {
   "cell_type": "markdown",
   "id": "fdeefc77-438d-4d3d-a874-8b0bf6241586",
   "metadata": {},
   "source": [
    "### Create XSPEC model file   "
   ]
  },
  {
   "cell_type": "code",
   "execution_count": null,
   "id": "6093d15a-8aa5-4a21-a36d-abd6c94ab7a2",
   "metadata": {},
   "outputs": [],
   "source": [
    "# is spectral model file does not exist, create it\n",
    "\n",
    "xcm = f\"{model}.xcm\"\n",
    "if not os.path.exists(xcm):\n",
    "    # Clear all models\n",
    "    AllModels.clear()\n",
    "    # define XSPEC parameters\n",
    "    Xset.abund = \"wilm\"\n",
    "    Xset.cosmo = \"70 0. 0.7\"\n",
    "    Xset.xsect = \"vern\"\n",
    "    mcmod = Model(\"TBabs*powerlaw\")\n",
    "    mcmod.TBabs.nH = 0.4\n",
    "    mcmod.powerlaw.PhoIndex = 2.1\n",
    "    mcmod.powerlaw.norm = 9.5\n",
    "    #retrieve the flux value\n",
    "    AllModels.calcFlux(f\"{Emin} {Emax}\")\n",
    "    model_flux = AllModels(1).flux[0]\n",
    "    # Save the model to the specified .xcm file path\n",
    "    Xset.save(xcm)\n",
    "    vprint(f\"Model saved to {xcm}\")\n",
    "    mcmod.show()"
   ]
  },
  {
   "cell_type": "markdown",
   "id": "db3b8868",
   "metadata": {},
   "source": [
    "### Create simput file"
   ]
  },
  {
   "cell_type": "code",
   "execution_count": null,
   "id": "69bedc01-d766-46b6-9ee8-d65497b42e2e",
   "metadata": {},
   "outputs": [],
   "source": [
    "# run simputfile to create the simput file\n",
    "simputfile = f\"{filestring_simput}_simput.fits\"\n",
    "if not os.path.exists(simputfile):\n",
    "        comm = (f'simputfile Simput={simputfile} RA={RA} Dec={Dec} '\n",
    "                f'srcFlux={flux} Emin={Emin} Emax={Emax} '\n",
    "                f'XSPECFile={xcm} clobber=yes')\n",
    "        vprint(f\"Running {comm}\")\n",
    "        # Run the command through the subprocess module\n",
    "        output_simputfile = run(comm, shell=True, capture_output=True)\n",
    "        #print(output_simputfile.stdout.decode())\n",
    "        assert output_simputfile.returncode == 0, f\"simputfile failed to run: {comm}\"\n",
    "        assert os.path.exists(simputfile), f\"simputfile did not produce an output file\""
   ]
  },
  {
   "cell_type": "markdown",
   "id": "e509515f",
   "metadata": {},
   "source": [
    "### Run SIXTESIM and get PIXIMPACT file "
   ]
  },
  {
   "cell_type": "code",
   "execution_count": null,
   "id": "02634c60",
   "metadata": {},
   "outputs": [],
   "source": [
    "evtfile = f\"{filestring}_evt.fits\"\n",
    "photfile = f\"{filestring}_photon.fits\"\n",
    "impfile = f\"{filestring}_impact.fits\"\n",
    "if not os.path.exists(evtfile) or not os.path.exists(photfile) or not os.path.exists(impfile):    \n",
    "        comm = (f'sixtesim PhotonList={photfile} Simput={simputfile} '\n",
    "                f'ImpactList={impfile} EvtFile={evtfile} doCrossTalk={XTalk} '\n",
    "                f'XMLFile={xml_sixtesim} Background={nonxbgd} RA={RA} Dec={Dec} ' \n",
    "                f'Exposure={exposure} clobber=yes')\n",
    "        vprint(comm)\n",
    "        output_sixtesim = run(comm, shell=True, capture_output=True)\n",
    "        assert output_sixtesim.returncode == 0, f\"sixtesim failed to run\"\n",
    "        assert os.path.exists(evtfile), f\"sixtesim did not produce an output file\"\n",
    "        assert os.path.exists(photfile), f\"sixtesim did not produce an output file\"\n",
    "        assert os.path.exists(impfile), f\"sixtesim did not produce an output file\""
   ]
  },
  {
   "cell_type": "markdown",
   "id": "34d8453a",
   "metadata": {},
   "source": [
    "### Get list of pixels with counts produced by sixtesim "
   ]
  },
  {
   "cell_type": "code",
   "execution_count": null,
   "id": "a458af9a",
   "metadata": {},
   "outputs": [],
   "source": [
    "#read column PIXID from evtfile and save to a list of unique pixels\n",
    "hdulist = fits.open(evtfile, mode='update')\n",
    "evtdata = hdulist[1].data.copy()\n",
    "pixels_with_impacts = np.unique(evtdata[\"PIXID\"])\n",
    "vprint(f\"Number of pixels with impacts: {len(pixels_with_impacts)}\")\n",
    "hdulist.close()\n",
    "\n",
    "# get pixels used and the events in each pixel\n",
    "nimpacts_inpix = dict()\n",
    "phid_impacts_inpix = dict()\n",
    "for pixel in pixels_with_impacts:\n",
    "    phid_impacts_inpix[pixel] = evtdata['PH_ID'][evtdata['PIXID'] == pixel]\n",
    "    nimpacts_inpix[pixel] = len(phid_impacts_inpix[pixel])\n",
    "\n",
    "#print number of impacts per pixel sorted by number of impacts\n",
    "sim_brightest_pixels = sorted(nimpacts_inpix, key=nimpacts_inpix.get, reverse=True)\n",
    "for pixel in sim_brightest_pixels:\n",
    "    vprint(f\"Pixel {pixel}: {nimpacts_inpix[pixel]} impacts\")\n",
    "\n",
    "\n",
    "#print the PH_ID of impacts in pixels\n",
    "for key, value in phid_impacts_inpix.items():\n",
    "    vprint(f\"Pixel {key}: \")\n",
    "    vprint(f\"      PH_ID:{value}\")"
   ]
  },
  {
   "cell_type": "markdown",
   "id": "da771eb5",
   "metadata": {},
   "source": [
    "### Check distribution of impacts w/ EC's input file"
   ]
  },
  {
   "cell_type": "code",
   "execution_count": null,
   "id": "10c8e021",
   "metadata": {},
   "outputs": [],
   "source": [
    "# read ascii file with brightest pixels countrate into an astropy table: 1 column with countrate (no header)\n",
    "brightest_pixels_cts = Table.read(brightest_pixels_file, format='ascii.no_header')\n",
    "# set column name to IN_CTRATE\n",
    "brightest_pixels_cts.rename_column('col1', 'IN_CTRATE')\n",
    "# add 5 cts/s to each pixel\n",
    "brightest_pixels_cts['IN_CTRATE'] += 5\n",
    "# sort column in descending order\n",
    "brightest_pixels_cts.sort('IN_CTRATE', reverse=True)\n",
    "vprint(f\"Brightest pixels counts in 1s: {brightest_pixels_cts}\")\n",
    "nbrightest_pixels = len(brightest_pixels_cts)"
   ]
  },
  {
   "cell_type": "code",
   "execution_count": null,
   "id": "15729213",
   "metadata": {},
   "outputs": [],
   "source": [
    "# compare the impacts in the brightest pixels with the impacts in the 'nbrighted_pixels' simulated pixels\n",
    "\n",
    "for ipix in range(nbrightest_pixels):\n",
    "    pixel = sim_brightest_pixels[ipix]\n",
    "    nimpacts_sim = nimpacts_inpix[pixel]\n",
    "    nimpacts_brightest = round(brightest_pixels_cts[ipix]['IN_CTRATE'] * exposure)\n",
    "    vprint(f\"Pixel {pixel}: {nimpacts_sim} simulated impacts, [{ipix+1}] file_brightest_pixel: {nimpacts_brightest} impacts, factor={nimpacts_sim/nimpacts_brightest:.4f}\")\n"
   ]
  },
  {
   "cell_type": "markdown",
   "id": "163b01e2",
   "metadata": {},
   "source": [
    "### Read sixtesim output data"
   ]
  },
  {
   "cell_type": "code",
   "execution_count": null,
   "id": "c5bd6682",
   "metadata": {},
   "outputs": [],
   "source": [
    "# open sixtesim ImpactList and read data \n",
    "hdulist = fits.open(impfile)\n",
    "impdata = hdulist[1].data.copy()\n",
    "hdulist.close()\n",
    "#vprint(impdata)"
   ]
  },
  {
   "cell_type": "markdown",
   "id": "ed2c9075",
   "metadata": {},
   "source": [
    "## Do XIFUSIM simulation  for the simulated brightest pixels"
   ]
  },
  {
   "cell_type": "code",
   "execution_count": null,
   "id": "0b7be397",
   "metadata": {},
   "outputs": [],
   "source": [
    "vprint(f\"Simulated Brightest pixels: {sim_brightest_pixels}\")"
   ]
  },
  {
   "cell_type": "markdown",
   "id": "1e3e778a",
   "metadata": {},
   "source": [
    "### Extract a piximpact file for each interesting pixel   \n",
    "- create a subsample of the piximpact file selecting only those rows where PH_ID is in the list of the impacts in the pixel   \n",
    "- copy src impacts from impact file and bkgs from event file (background are not in the impact list, only in the event file)"
   ]
  },
  {
   "cell_type": "code",
   "execution_count": null,
   "id": "9c4466d4",
   "metadata": {},
   "outputs": [],
   "source": [
    "for ipix in range(nbrightest_pixels):\n",
    "    ipixel = sim_brightest_pixels[ipix]\n",
    "    vprint(f\"Checking existence of piximpact file for pixel {ipixel}\")\n",
    "    # create a subsample of the piximpact file selecting only those rows where PH_ID is in \n",
    "    # the list of the impacts in the pixel\n",
    "    piximpactfile = f\"{filestring}_pixel{ipixel}_piximpact.fits\"\n",
    "    # if file does not exist, create it\n",
    "    if not os.path.exists(piximpactfile):\n",
    "        # create a mask to select only the rows with the impacts in this pixel\n",
    "        mask = np.isin(impdata['PH_ID'], phid_impacts_inpix[ipixel])\n",
    "        # create a new table with the selected rows\n",
    "        newtable = Table(impdata[mask])\n",
    "        # sort newtable according to TIME\n",
    "        newtable.sort('TIME')\n",
    "            \n",
    "        # add new columns X,Y,U,V, GRADE1, GRADE2, TOTALEN with the value 0 and PIXID with the value of ipixel\n",
    "        newtable['X'] = 0.\n",
    "        newtable['Y'] = 0.\n",
    "        newtable['U'] = 0.\n",
    "        newtable['V'] = 0.\n",
    "        newtable['GRADE1'] = 0\n",
    "        newtable['GRADE2'] = 0\n",
    "        newtable['TOTALEN'] = 0\n",
    "        newtable['PIXID'] = 1 #requirement for xifusim\n",
    "\n",
    "        # name the new table 'PIXELIMPACT'\n",
    "        newtable.meta['EXTNAME'] = 'PIXELIMPACT'\n",
    "    \n",
    "        # write the new table to a new FITS file\n",
    "        newtable.write(piximpactfile, format='fits', overwrite=True)\n",
    "\n",
    "        # print the name of the new file rewriting the output line\n",
    "        vprint(f\"Created {piximpactfile} for pixel {ipixel}\")\n"
   ]
  },
  {
   "cell_type": "markdown",
   "id": "7193b965",
   "metadata": {},
   "source": [
    "### Run the xifusim simulation (with XML for single pixel)   \n",
    "    - simulate time between min and max TIME in piximpact   \n",
    "    - xifusim simulation    \n",
    "    - re-establish correct PIXID    "
   ]
  },
  {
   "cell_type": "code",
   "execution_count": null,
   "id": "a30f4178",
   "metadata": {},
   "outputs": [],
   "source": [
    "#for each piximpact file, run xifusim\n",
    "prebuffer = 1500\n",
    "phsims_inpix = dict()\n",
    "nphsims_inpix = dict()\n",
    "skipped_photons_inpix = dict()\n",
    "skipped_xifusim = []   \n",
    "\n",
    "for ipix in range(nbrightest_pixels):\n",
    "    ipixel = sim_brightest_pixels[ipix]\n",
    "    piximpactfile = f\"{filestring}_pixel{ipixel}_piximpact.fits\"\n",
    "    # read the piximpact file and get TIME values\n",
    "    with fits.open(piximpactfile) as hdulist_piximpact:\n",
    "        piximpactdata = hdulist_piximpact[1].data.copy()\n",
    "    xifusimfile = f\"{filestring}_pixel{ipixel}_xifusim.fits\"\n",
    "    if not os.path.exists(xifusimfile):\n",
    "        #calculate minimum and maximum time for impacts in the pixel\n",
    "        mintime = np.min(piximpactdata['TIME'])\n",
    "        maxtime = np.max(piximpactdata['TIME'])\n",
    "        expos_init = 1.e-6\n",
    "        expos_fin = exposure\n",
    "    \n",
    "        #create xifusim name based on input parameters    \n",
    "        comm = (f'xifusim PixImpList={piximpactfile} Streamfile={xifusimfile} '\n",
    "                f'tstart={expos_init} tstop={expos_fin} '\n",
    "                f'writeDRE=1 writeTrigger=0 '\n",
    "                f'XMLfilename={xml_xifusim} clobber=yes ')\n",
    "        \n",
    "        vprint(f\"  Doing simulation for pixel {ipixel} with {len(piximpactdata)} impacts ({nimpacts_inpix[ipixel]} TOTAL impacts)\")\n",
    "        print(f\"Running {comm}\")\n",
    "        output_xifusim = run(comm, shell=True, capture_output=True)\n",
    "        #assert output_xifusim.returncode == 0, f\"xifusim failed to run: {comm}\"\n",
    "        assert output_xifusim.returncode == 0, print(f\"xifusim failed to run: {comm} => ERROR COED: {output_xifusim.stdout.decode()}\")\n",
    "        assert os.path.exists(xifusimfile), f\"xifusim did not produce an output file\"\n",
    "\n",
    "        # re-write correct PIXID in the xifusim file\n",
    "        with fits.open(xifusimfile, mode='update') as hdulist:\n",
    "            xifusimdata = hdulist[1].data\n",
    "            xifusimdata['PIXID'] = ipixel\n",
    "            hdulist.flush()"
   ]
  },
  {
   "cell_type": "code",
   "execution_count": null,
   "id": "00da51f0",
   "metadata": {},
   "outputs": [],
   "source": []
  }
 ],
 "metadata": {
  "kernelspec": {
   "display_name": "GSFCenv",
   "language": "python",
   "name": "python3"
  },
  "language_info": {
   "codemirror_mode": {
    "name": "ipython",
    "version": 3
   },
   "file_extension": ".py",
   "mimetype": "text/x-python",
   "name": "python",
   "nbconvert_exporter": "python",
   "pygments_lexer": "ipython3",
   "version": "3.12.7"
  }
 },
 "nbformat": 4,
 "nbformat_minor": 5
}
