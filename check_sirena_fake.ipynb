{
 "cells": [
  {
   "cell_type": "code",
   "execution_count": null,
   "id": "2ed794b4",
   "metadata": {},
   "outputs": [],
   "source": [
    "# test SIRENA fake photons\n",
    "import auxiliary\n",
    "\n",
    "\n",
    "datadir = \"/dataj6/ceballos/INSTRUMEN/EURECA/TN350_detection/2024_revision\"\n",
    "sirena_file = f\"{datadir}/flux0.32mcrab/sim_45/crab_flux0.32_Emin2_Emax10_exp10553_RA0.0_Dec0.0_nofilt_infoc_pixel776_sirena.fits\"\n",
    "\n",
    "auxiliary.get_sirena_fake_events(sirena_file)"
   ]
  },
  {
   "cell_type": "code",
   "execution_count": null,
   "id": "0d147627",
   "metadata": {},
   "outputs": [],
   "source": []
  }
 ],
 "metadata": {
  "kernelspec": {
   "display_name": "GSFCenv",
   "language": "python",
   "name": "python3"
  },
  "language_info": {
   "codemirror_mode": {
    "name": "ipython",
    "version": 3
   },
   "file_extension": ".py",
   "mimetype": "text/x-python",
   "name": "python",
   "nbconvert_exporter": "python",
   "pygments_lexer": "ipython3",
   "version": "3.13.3"
  }
 },
 "nbformat": 4,
 "nbformat_minor": 5
}
