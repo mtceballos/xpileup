{
 "cells": [
  {
   "cell_type": "markdown",
   "id": "8d7a9827",
   "metadata": {},
   "source": [
    "# Plot fractions of missing/badrecons photons"
   ]
  },
  {
   "cell_type": "markdown",
   "id": "0e28d629",
   "metadata": {},
   "source": [
    "It reads summary files from simulations of pileup and plots   \n",
    "\n",
    "- fraction of missing photons   \n",
    "- fraction of badrecons photons   \n",
    "- flagging success   "
   ]
  },
  {
   "cell_type": "markdown",
   "id": "34047399",
   "metadata": {},
   "source": []
  },
  {
   "cell_type": "code",
   "execution_count": null,
   "id": "2cd73d85",
   "metadata": {},
   "outputs": [],
   "source": [
    "import pandas as pd\n",
    "import numpy as np\n",
    "import matplotlib.pyplot as plt\n",
    "from astropy.visualization import hist\n",
    "import glob"
   ]
  },
  {
   "cell_type": "markdown",
   "id": "b46c9592",
   "metadata": {},
   "source": [
    "## Read CSV files for all fluxes and store full information"
   ]
  },
  {
   "cell_type": "code",
   "execution_count": null,
   "id": "7e662586",
   "metadata": {},
   "outputs": [],
   "source": [
    "# read all csv files in current dir\n",
    "files = glob.glob('info*.csv')\n",
    "nfiles = len(files)\n",
    "# get list of fluxes from the files\n",
    "fluxes = []\n",
    "for file in files:\n",
    "    df = pd.read_csv(file)\n",
    "    fluxes.append(df['flux[mcrab]'].values[0])\n",
    "# sort the files by flux\n",
    "files = [x for _, x in sorted(zip(fluxes, files))]\n",
    "\n",
    "# inititalize numpy array of fluxes\n",
    "fluxes = np.zeros(nfiles)\n",
    "# initialize numpy array of mean and std\n",
    "means = np.zeros(nfiles)\n",
    "stds = np.zeros(nfiles)\n",
    "\n",
    "# start figure with axes\n",
    "fig, ax = plt.subplots(1,1, figsize=(10,6))\n",
    "\n",
    "# loop over files\n",
    "for i in range(nfiles):\n",
    "    file = files[i]\n",
    "    # read data from csv file\n",
    "    df = pd.read_csv(file)\n",
    "    # Read columns \"simulation\" and \"fraction[%lost]\" for the given exposure time\n",
    "    sim = df[\"simulation\"]\n",
    "    frac = df[\"fraction_lost[%]\"]\n",
    "    # get data from the table\n",
    "    exposure = df['exposure[s]'].values[0]\n",
    "    filter = df['filter'].values[0]\n",
    "    focus = df['focus'].values[0]\n",
    "    Nimpacts = int(np.mean(df['Nimpacts'].values))\n",
    "    Nmissing = int(np.mean(df['Missing'].values))\n",
    "    flux_mcrab = df['flux[mcrab]'].values[0]\n",
    "    \n",
    "    mean = np.mean(frac)\n",
    "    std = np.std(frac)\n",
    "\n",
    "    # add flux to array\n",
    "    fluxes[i] = flux_mcrab\n",
    "    # add mean and std to array\n",
    "    means[i] = mean\n",
    "    stds[i] = std\n",
    "    \n",
    "    \n",
    "# plot fraction lost vs flux in log scale\n",
    "ax.errorbar(fluxes, means, yerr=stds, fmt='o', color='C0', mfc='white', markersize=5, capsize=5, label='missing photons')\n",
    "# plot fraction of lost+badrecons vs flux in log scale (multiply by 2: for each badrecon, there is a lost) \n",
    "ax.errorbar(fluxes, 2*means, yerr=2*stds, fmt='o', color='black', mfc='white', markersize=5, capsize=5, label='lost+badrecons')\n",
    "\n",
    "# set vertical line at >0.5 mCrab\n",
    "ax.axvline(x=0.55, color='red', linestyle='--', label='infoc/defoc', alpha=0.5)\n",
    "\n",
    "ax.set_xscale('log')\n",
    "ax.set_yscale('linear')\n",
    "# do not use power of ten notation\n",
    "ax.xaxis.get_offset_text().set_visible(False)\n",
    "ax.xaxis.set_major_formatter(plt.FuncFormatter(lambda x, _: '{:.0f}'.format(x)))\n",
    "\n",
    "# set infoc/defoc text\n",
    "ax.text(0.25, 0.4, 'infoc', fontsize=15, color='black')\n",
    "ax.text(0.7, 0.4, 'defoc', fontsize=15, color='black')\n",
    "# draw an arrow from the line to the right\n",
    "ax.annotate('', xy=(0.65, 0.35), xytext=(1.1, 0.35),\n",
    "            arrowprops=dict(arrowstyle='<-', lw=1.5, color='black'))\n",
    "ax.annotate('', xy=(0.3, 0.35), xytext=(0.5, 0.35),\n",
    "            arrowprops=dict(arrowstyle='->', lw=1.5, color='black'))\n",
    "ax.set_xlabel('Flux [mCrab]', fontsize=18)\n",
    "ax.set_ylabel('Fraction [%]', fontsize=18)\n",
    "ax.legend(fontsize=15)\n",
    "\n",
    "plt.show()"
   ]
  },
  {
   "cell_type": "code",
   "execution_count": null,
   "id": "e0efbc73",
   "metadata": {},
   "outputs": [],
   "source": [
    "# save figure\n",
    "fig.savefig('Figures/fractions/fraction_lost_vs_flux.png', dpi=300, bbox_inches='tight')\n",
    "# save figure in pdf\n",
    "fig.savefig('Figures/fractions/fraction_lost_vs_flux.pdf', dpi=300, bbox_inches='tight')"
   ]
  }
 ],
 "metadata": {
  "kernelspec": {
   "display_name": "GSFCenv",
   "language": "python",
   "name": "python3"
  },
  "language_info": {
   "codemirror_mode": {
    "name": "ipython",
    "version": 3
   },
   "file_extension": ".py",
   "mimetype": "text/x-python",
   "name": "python",
   "nbconvert_exporter": "python",
   "pygments_lexer": "ipython3",
   "version": "3.13.2"
  }
 },
 "nbformat": 4,
 "nbformat_minor": 5
}
